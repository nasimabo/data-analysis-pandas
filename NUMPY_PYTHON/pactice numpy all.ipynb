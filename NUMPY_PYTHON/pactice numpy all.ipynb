{
 "cells": [
  {
   "cell_type": "code",
   "execution_count": 2,
   "id": "0c316df4-92fd-40f7-bb54-c9f8c435c869",
   "metadata": {},
   "outputs": [
    {
     "name": "stdout",
     "output_type": "stream",
     "text": [
      "[1 2 3 4] <class 'numpy.ndarray'>\n"
     ]
    }
   ],
   "source": [
    "import numpy as np\n",
    "\n",
    "ar = np.array([1,2,3,4])\n",
    "print(ar,type(ar))"
   ]
  },
  {
   "cell_type": "code",
   "execution_count": null,
   "id": "82a23e00-847e-4ead-a147-cb6326548273",
   "metadata": {},
   "outputs": [],
   "source": []
  },
  {
   "cell_type": "code",
   "execution_count": 3,
   "id": "a9b9e0e8-d0e4-4726-9e10-fced6dcde36f",
   "metadata": {},
   "outputs": [
    {
     "name": "stdout",
     "output_type": "stream",
     "text": [
      "<class 'list'> [1, 2, 3, 4, 5]\n"
     ]
    }
   ],
   "source": [
    "li = [1,2,3,4,5]\n",
    "\n",
    "print(type(li),li)"
   ]
  },
  {
   "cell_type": "markdown",
   "id": "511d1dd7-c7b3-4e6c-9c71-8e0415aef3ea",
   "metadata": {},
   "source": [
    "# %timeit"
   ]
  },
  {
   "cell_type": "code",
   "execution_count": 4,
   "id": "5e81db80-1cc9-407b-93d9-c5aa02e59bd6",
   "metadata": {},
   "outputs": [
    {
     "name": "stdout",
     "output_type": "stream",
     "text": [
      "3.96 µs ± 92.2 ns per loop (mean ± std. dev. of 7 runs, 100,000 loops each)\n"
     ]
    }
   ],
   "source": [
    "%timeit [j**4 for j in range(1,9)]\n"
   ]
  },
  {
   "cell_type": "code",
   "execution_count": 5,
   "id": "d9846aa6-4df8-4fb2-8df9-7dd25e8887a8",
   "metadata": {},
   "outputs": [
    {
     "name": "stdout",
     "output_type": "stream",
     "text": [
      "3.44 µs ± 49.5 ns per loop (mean ± std. dev. of 7 runs, 100,000 loops each)\n"
     ]
    }
   ],
   "source": [
    "import numpy as np\n",
    "\n",
    "%timeit np.arange(1,9)**4"
   ]
  },
  {
   "cell_type": "code",
   "execution_count": 9,
   "id": "e470c3dd-62d7-4de0-9c2e-6206c6b49d08",
   "metadata": {},
   "outputs": [
    {
     "name": "stdout",
     "output_type": "stream",
     "text": [
      "[1 2 3 4]\n",
      "1\n"
     ]
    }
   ],
   "source": [
    "import numpy as np\n",
    "\n",
    "ar = np.array([1,2,3,4])\n",
    "print(ar)\n",
    "print(ar.ndim)"
   ]
  },
  {
   "cell_type": "markdown",
   "id": "9831ff5d-e337-454f-8dea-caf9d8570c34",
   "metadata": {},
   "source": [
    "# Array"
   ]
  },
  {
   "cell_type": "code",
   "execution_count": 11,
   "id": "73fa620c-5b45-4cb2-8afd-a1312192f1d1",
   "metadata": {},
   "outputs": [
    {
     "name": "stdout",
     "output_type": "stream",
     "text": [
      "[[1 2 3 4]\n",
      " [1 5 6 7]]\n",
      "2\n"
     ]
    }
   ],
   "source": [
    "ar_two = np.array([[1,2,3,4],[1,5,6,7]])\n",
    "\n",
    "print(ar_two)\n",
    "print(ar_two.ndim)\n"
   ]
  },
  {
   "cell_type": "code",
   "execution_count": 13,
   "id": "20825107-efa3-4bdd-bc58-9e7edb456923",
   "metadata": {},
   "outputs": [
    {
     "name": "stdout",
     "output_type": "stream",
     "text": [
      "[[[1 2 3 4]\n",
      "  [4 5 6 7]\n",
      "  [7 8 9 5]]]\n",
      "3\n"
     ]
    }
   ],
   "source": [
    "ar_three = np.array([[[1,2,3,4],[4,5,6,7],[7,8,9,5]]])\n",
    "\n",
    "print(ar_three)\n",
    "print(ar_three.ndim)"
   ]
  },
  {
   "cell_type": "code",
   "execution_count": 15,
   "id": "ff3499fb-2cc7-41ab-bda2-01d2fc70926a",
   "metadata": {},
   "outputs": [
    {
     "name": "stdin",
     "output_type": "stream",
     "text": [
      "Enter the list: 5\n",
      "Enter the list: 6\n",
      "Enter the list: 4\n",
      "Enter the list: 7\n"
     ]
    },
    {
     "name": "stdout",
     "output_type": "stream",
     "text": [
      "[5 6 4 7]\n"
     ]
    }
   ],
   "source": [
    "import numpy as np\n",
    "\n",
    "l = []\n",
    "for i in range(1,5):\n",
    "    int_inp = int(input(\"Enter the list:\"))\n",
    "    l.append(int_inp)\n",
    "\n",
    "print(np.array(l))"
   ]
  },
  {
   "cell_type": "code",
   "execution_count": 18,
   "id": "c9c5e521-008a-4e1f-890d-239f942a1f20",
   "metadata": {},
   "outputs": [
    {
     "name": "stdout",
     "output_type": "stream",
     "text": [
      "[[[[[[[[[[[1 2 3]]]]]]]]]]]\n",
      "11\n"
     ]
    }
   ],
   "source": [
    "arn = np.array([1,2,3],ndmin=11)\n",
    "print(arn)\n",
    "print(arn.ndim)"
   ]
  },
  {
   "cell_type": "markdown",
   "id": "9656522d-d47d-43b2-a24b-c515ff5ccb67",
   "metadata": {},
   "source": [
    "# zeros"
   ]
  },
  {
   "cell_type": "code",
   "execution_count": 24,
   "id": "308a1959-02dd-49e9-8d8c-25f5fb7a44bb",
   "metadata": {},
   "outputs": [
    {
     "name": "stdout",
     "output_type": "stream",
     "text": [
      "[0. 0. 0. 0.]\n",
      "\n",
      "[[0. 0. 0. 0.]\n",
      " [0. 0. 0. 0.]\n",
      " [0. 0. 0. 0.]]\n"
     ]
    }
   ],
   "source": [
    "import numpy as np\n",
    "\n",
    "ar_zero = np.zeros(4)\n",
    "ar_zero_two = np.zeros((3,4))\n",
    "\n",
    "print(ar_zero)\n",
    "print()\n",
    "print(ar_zero_two)"
   ]
  },
  {
   "cell_type": "markdown",
   "id": "ab613684-3214-4160-a1e9-301d3d59b009",
   "metadata": {},
   "source": [
    "# One"
   ]
  },
  {
   "cell_type": "code",
   "execution_count": 26,
   "id": "7138ff9c-2246-4649-9bbe-5395de4ea94d",
   "metadata": {},
   "outputs": [
    {
     "name": "stdout",
     "output_type": "stream",
     "text": [
      "[[1. 1. 1. 1.]\n",
      " [1. 1. 1. 1.]\n",
      " [1. 1. 1. 1.]\n",
      " [1. 1. 1. 1.]]\n"
     ]
    }
   ],
   "source": [
    "import numpy as np\n",
    "\n",
    "ar_one = np.ones((4,4))\n",
    "print(ar_one)"
   ]
  },
  {
   "cell_type": "markdown",
   "id": "de0eb3d5-17b8-472e-8686-2aada507a169",
   "metadata": {},
   "source": [
    "# Empty"
   ]
  },
  {
   "cell_type": "code",
   "execution_count": 28,
   "id": "4ab6afed-e72f-4ede-9d3e-96563bf6124b",
   "metadata": {},
   "outputs": [
    {
     "name": "stdout",
     "output_type": "stream",
     "text": [
      "[[0. 0. 0.]\n",
      " [0. 0. 0.]\n",
      " [0. 0. 0.]\n",
      " [0. 0. 0.]]\n"
     ]
    }
   ],
   "source": [
    "import numpy as np\n",
    "\n",
    "ar_emp = np.empty((4,3))\n",
    "print(ar_emp)"
   ]
  },
  {
   "cell_type": "markdown",
   "id": "9fa20c7d-3607-42bc-8395-8972843f8d19",
   "metadata": {},
   "source": [
    "# Diagonal"
   ]
  },
  {
   "cell_type": "code",
   "execution_count": 32,
   "id": "d4908ffe-96ff-4be9-8a18-3d6687c9bf03",
   "metadata": {},
   "outputs": [
    {
     "name": "stdout",
     "output_type": "stream",
     "text": [
      "[[1. 0. 0. 0.]\n",
      " [0. 1. 0. 0.]\n",
      " [0. 0. 1. 0.]\n",
      " [0. 0. 0. 1.]]\n",
      "\n",
      "[[1. 0. 0. 0. 0. 0.]\n",
      " [0. 1. 0. 0. 0. 0.]\n",
      " [0. 0. 1. 0. 0. 0.]\n",
      " [0. 0. 0. 1. 0. 0.]\n",
      " [0. 0. 0. 0. 1. 0.]\n",
      " [0. 0. 0. 0. 0. 1.]]\n"
     ]
    }
   ],
   "source": [
    "import numpy as np\n",
    "\n",
    "ar_dia = np.eye(4)\n",
    "ar_diag = np.eye(6,6)\n",
    "print(ar_dia)\n",
    "print()\n",
    "print(ar_diag)"
   ]
  },
  {
   "cell_type": "markdown",
   "id": "4f53def9-5bd0-4d6b-b6b7-610697fe384a",
   "metadata": {},
   "source": [
    "# Linspace"
   ]
  },
  {
   "cell_type": "code",
   "execution_count": 36,
   "id": "3f30d64d-cbd5-4a4f-a6ca-11c1f67bf4c1",
   "metadata": {},
   "outputs": [
    {
     "name": "stdout",
     "output_type": "stream",
     "text": [
      "[ 1.    3.25  5.5   7.75 10.  ]\n"
     ]
    }
   ],
   "source": [
    "import numpy as np\n",
    "\n",
    "ar_li_spa = np.linspace(1,10,num = 5)\n",
    "\n",
    "print(ar_li_spa)"
   ]
  },
  {
   "cell_type": "markdown",
   "id": "6af2ee8c-4d66-4ffd-bb5a-14be4a01e9ba",
   "metadata": {},
   "source": [
    "# Random"
   ]
  },
  {
   "cell_type": "markdown",
   "id": "99ad1c08-4729-456a-9008-b061a7c05f9b",
   "metadata": {},
   "source": [
    "# Rand()"
   ]
  },
  {
   "cell_type": "code",
   "execution_count": 38,
   "id": "4615f9d8-ac15-4ecc-aa6f-a904ef42beff",
   "metadata": {},
   "outputs": [
    {
     "name": "stdout",
     "output_type": "stream",
     "text": [
      "[0.04966828 0.97426716 0.14494274 0.18060238]\n"
     ]
    }
   ],
   "source": [
    "import numpy as np\n",
    "\n",
    "ar_ran = np.random.rand(4)\n",
    "\n",
    "print(ar_ran)"
   ]
  },
  {
   "cell_type": "markdown",
   "id": "1c98e73b-27d6-41e6-814e-01bf82163c82",
   "metadata": {},
   "source": [
    "# Randn()"
   ]
  },
  {
   "cell_type": "code",
   "execution_count": 40,
   "id": "81f54214-5c29-4d6f-ad16-c7c4496be0ac",
   "metadata": {},
   "outputs": [
    {
     "name": "stdout",
     "output_type": "stream",
     "text": [
      "[[-0.92398602 -0.06352341 -0.58558356 -0.82751191]\n",
      " [ 0.37605623 -0.48849252 -2.73698722 -0.21961908]\n",
      " [-0.96062247  0.15708114  0.52013484 -0.56715064]\n",
      " [ 1.37851883 -0.75164867  1.43877472 -0.41184143]]\n"
     ]
    }
   ],
   "source": [
    "import numpy as np\n",
    "\n",
    "ar_randn = np.random.randn(4,4)\n",
    "print(ar_randn)"
   ]
  },
  {
   "cell_type": "markdown",
   "id": "b249711a-496a-47fa-b7fc-42071b25be48",
   "metadata": {},
   "source": [
    "# Ranf"
   ]
  },
  {
   "cell_type": "code",
   "execution_count": 43,
   "id": "b3882502-4841-4901-a0dd-3e702c39134f",
   "metadata": {},
   "outputs": [
    {
     "name": "stdout",
     "output_type": "stream",
     "text": [
      "[[0.96612239 0.22058784 0.80868063 0.29614566]\n",
      " [0.67323643 0.42771395 0.46067745 0.3178903 ]\n",
      " [0.84152576 0.79387718 0.49755791 0.11558394]\n",
      " [0.73525532 0.43267767 0.00769466 0.29989788]]\n"
     ]
    }
   ],
   "source": [
    "import numpy as np\n",
    "\n",
    "ar_ranf = np.random.ranf((4,4))\n",
    "print(ar_ranf)"
   ]
  },
  {
   "cell_type": "markdown",
   "id": "ee5b2006-df42-481b-8c53-648bf02dbf1b",
   "metadata": {},
   "source": [
    "# Randint"
   ]
  },
  {
   "cell_type": "code",
   "execution_count": 47,
   "id": "a83c2391-5d33-4527-9483-a90543d142f6",
   "metadata": {},
   "outputs": [
    {
     "name": "stdout",
     "output_type": "stream",
     "text": [
      "[7 8 6 7]\n"
     ]
    }
   ],
   "source": [
    "import numpy as np\n",
    "\n",
    "ar_randint = np.random.randint(5,10,4)\n",
    "print(ar_randint)"
   ]
  },
  {
   "cell_type": "markdown",
   "id": "d65c8de5-c102-423a-a0f1-bc7c9ed9bc30",
   "metadata": {},
   "source": [
    "# Data type"
   ]
  },
  {
   "cell_type": "code",
   "execution_count": 51,
   "id": "119e4221-2701-4b50-a441-cfded01b6807",
   "metadata": {},
   "outputs": [
    {
     "name": "stdout",
     "output_type": "stream",
     "text": [
      "[1 2 3 4 5] int32\n"
     ]
    }
   ],
   "source": [
    "import numpy as np\n",
    "\n",
    "ar = np.array([1,2,3,4,5])\n",
    "\n",
    "print(ar,ar.dtype)"
   ]
  },
  {
   "cell_type": "code",
   "execution_count": 52,
   "id": "75ee289d-33aa-4330-822a-2eda670fd053",
   "metadata": {},
   "outputs": [
    {
     "name": "stdout",
     "output_type": "stream",
     "text": [
      "[1.1 2.5 3.6] float64\n"
     ]
    }
   ],
   "source": [
    "ar_two = np.array([1.1,2.5,3.6])\n",
    "print(ar_two,ar_two.dtype)"
   ]
  },
  {
   "cell_type": "code",
   "execution_count": 53,
   "id": "9b082ce5-0e9b-4afa-b9dd-b3ddd2985b7e",
   "metadata": {},
   "outputs": [
    {
     "name": "stdout",
     "output_type": "stream",
     "text": [
      "['a' 'b' 'c'] <U1\n"
     ]
    }
   ],
   "source": [
    "ar_str = np.array(['a','b','c'])\n",
    "print(ar_str,ar_str.dtype)"
   ]
  },
  {
   "cell_type": "code",
   "execution_count": 54,
   "id": "bb992962-eb31-414c-8373-1d31d2f07b15",
   "metadata": {},
   "outputs": [
    {
     "name": "stdout",
     "output_type": "stream",
     "text": [
      "['a' 'b' 'c' '1' '2' '3' '4'] <U11\n"
     ]
    }
   ],
   "source": [
    "ar_str = np.array(['a','b','c',1,2,3,4])\n",
    "print(ar_str,ar_str.dtype)"
   ]
  },
  {
   "cell_type": "code",
   "execution_count": 57,
   "id": "ca1e270e-10d0-41d5-b864-5ad2b1d8d7a6",
   "metadata": {},
   "outputs": [
    {
     "name": "stdout",
     "output_type": "stream",
     "text": [
      "[1 2 3 4 5] int8\n"
     ]
    }
   ],
   "source": [
    "import numpy as np\n",
    "\n",
    "ar = np.array([1,2,3,4,5],dtype = np.int8)\n",
    "\n",
    "print(ar,ar.dtype)"
   ]
  },
  {
   "cell_type": "code",
   "execution_count": 60,
   "id": "eb554ad6-ef39-48d4-b152-b51dad3b13ec",
   "metadata": {},
   "outputs": [
    {
     "name": "stdout",
     "output_type": "stream",
     "text": [
      "[b'a' b'b' b'c'] |S1\n"
     ]
    }
   ],
   "source": [
    "ar_fl = np.array(['a','b','c'],dtype = 'a')\n",
    "print(ar_fl,ar_fl.dtype)"
   ]
  },
  {
   "cell_type": "code",
   "execution_count": 61,
   "id": "af200e0d-e18f-4ae7-b0cb-abaff27b8c56",
   "metadata": {},
   "outputs": [
    {
     "name": "stdout",
     "output_type": "stream",
     "text": [
      "[1.1 2.5 3.6] float32\n"
     ]
    }
   ],
   "source": [
    "ar_two = np.array([1.1,2.5,3.6],dtype = 'f')\n",
    "print(ar_two,ar_two.dtype)"
   ]
  },
  {
   "cell_type": "code",
   "execution_count": 66,
   "id": "3a7f79c8-3e67-4297-b9a1-5a438a191d2e",
   "metadata": {},
   "outputs": [
    {
     "name": "stdout",
     "output_type": "stream",
     "text": [
      "[1.1 2.5 3.6] float32\n",
      "[1 2 3] int32\n"
     ]
    }
   ],
   "source": [
    "ar_two = np.array([1.1,2.5,3.6])\n",
    "\n",
    "x = np.float32(ar_two)\n",
    "y = np.int_(ar_two)\n",
    "print(x,x.dtype)\n",
    "print(y,y.dtype)"
   ]
  },
  {
   "cell_type": "code",
   "execution_count": 70,
   "id": "6066695d-9088-4149-8c6e-5754f6505555",
   "metadata": {},
   "outputs": [
    {
     "name": "stdout",
     "output_type": "stream",
     "text": [
      "[1. 2. 3. 4.]\n"
     ]
    }
   ],
   "source": [
    "ar_two = np.array([1,2,3,4])\n",
    "\n",
    "x = ar_two.astype(float)\n",
    "print(x)"
   ]
  },
  {
   "cell_type": "markdown",
   "id": "6d3d39ac-54d8-441c-a373-26563047eb29",
   "metadata": {},
   "source": [
    "# Arithmatics operation "
   ]
  },
  {
   "cell_type": "code",
   "execution_count": 71,
   "id": "a5d90496-c209-46b0-a1be-40ec0adbafbc",
   "metadata": {},
   "outputs": [
    {
     "name": "stdout",
     "output_type": "stream",
     "text": [
      "[4 5 6 7 8]\n"
     ]
    }
   ],
   "source": [
    "import numpy as np\n",
    "\n",
    "ar_one = np.array([1,2,3,4,5])\n",
    "\n",
    "x = ar_one + 3\n",
    "\n",
    "print(x)"
   ]
  },
  {
   "cell_type": "code",
   "execution_count": 73,
   "id": "2f7b071b-1fae-42a9-a0ac-c295cda3fa22",
   "metadata": {},
   "outputs": [
    {
     "name": "stdout",
     "output_type": "stream",
     "text": [
      "[ 2  4  6  8 10]\n"
     ]
    }
   ],
   "source": [
    "import numpy as np\n",
    "\n",
    "ar_one = np.array([1,2,3,4,5])\n",
    "ar_two = np.array([1,2,3,4,5])\n",
    "\n",
    "x = np.add(ar_one,ar_two)\n",
    "\n",
    "print(x)"
   ]
  },
  {
   "cell_type": "code",
   "execution_count": 74,
   "id": "c4262a42-4b1b-42fa-aa49-30edb26e60b8",
   "metadata": {},
   "outputs": [
    {
     "name": "stdout",
     "output_type": "stream",
     "text": [
      "[[ 2  4  6  8 10]\n",
      " [ 2  4  6  8 10]]\n"
     ]
    }
   ],
   "source": [
    "ar_four = np.array([[1,2,3,4,5],[1,2,3,4,5]])\n",
    "ar_five = np.array([[1,2,3,4,5],[1,2,3,4,5]])\n",
    "\n",
    "y = np.add(ar_four,ar_five)\n",
    "\n",
    "print(y)\n"
   ]
  },
  {
   "cell_type": "code",
   "execution_count": 75,
   "id": "78edcdcb-edf3-4183-9b10-313e295a5db2",
   "metadata": {},
   "outputs": [
    {
     "name": "stdout",
     "output_type": "stream",
     "text": [
      "[0 0 0 0 0]\n"
     ]
    }
   ],
   "source": [
    "import numpy as np\n",
    "\n",
    "ar_one = np.array([1,2,3,4,5])\n",
    "ar_two = np.array([1,2,3,4,5])\n",
    "\n",
    "x = (ar_one -ar_two)\n",
    "\n",
    "print(x)"
   ]
  },
  {
   "cell_type": "code",
   "execution_count": 77,
   "id": "4a5df50f-8215-48b2-93f0-db629f9f270e",
   "metadata": {},
   "outputs": [
    {
     "name": "stdout",
     "output_type": "stream",
     "text": [
      "[1 0 0 0 0 0 0 0 0 0]\n"
     ]
    }
   ],
   "source": [
    "import numpy as np\n",
    "\n",
    "ar_one = np.array([1,2,3,4,5,6,7,8,9,10])\n",
    "\n",
    "x = np.reciprocal(ar_one)\n",
    "\n",
    "print(x)"
   ]
  },
  {
   "cell_type": "markdown",
   "id": "e011fe3b-cb09-42f3-af64-8f013ac8509e",
   "metadata": {},
   "source": [
    "# Arithmatic function"
   ]
  },
  {
   "cell_type": "code",
   "execution_count": 3,
   "id": "bd6ae194-31de-46a3-b448-701caf2892fa",
   "metadata": {},
   "outputs": [
    {
     "name": "stdout",
     "output_type": "stream",
     "text": [
      "2 6\n",
      "9 0\n"
     ]
    }
   ],
   "source": [
    "import numpy as np\n",
    "\n",
    "var = np.array([9,8,4,5,6,7,2])\n",
    "print(np.min(var),np.argmin(var))\n",
    "print(np.max(var),np.argmax(var))"
   ]
  },
  {
   "cell_type": "code",
   "execution_count": 6,
   "id": "129be067-31ad-4b3f-874b-2eed7f14a1b5",
   "metadata": {},
   "outputs": [
    {
     "name": "stdout",
     "output_type": "stream",
     "text": [
      "[2 2]\n",
      "[9 9]\n"
     ]
    }
   ],
   "source": [
    "import numpy as np\n",
    "\n",
    "var = np.array([[9,8,4,5,6,7,2],[9,8,4,5,6,7,2]])\n",
    "\n",
    "print(np.min(var,axis = 1))\n",
    "print(np.max(var,axis = 1))"
   ]
  },
  {
   "cell_type": "code",
   "execution_count": 9,
   "id": "b1ae84f1-f87b-4ab4-a1fb-ee355bd46a5f",
   "metadata": {},
   "outputs": [
    {
     "name": "stdout",
     "output_type": "stream",
     "text": [
      "[ 0.41211849  0.98935825 -0.7568025  -0.95892427 -0.2794155   0.6569866\n",
      "  0.90929743]\n",
      "\n",
      "[-0.91113026 -0.14550003 -0.65364362  0.28366219  0.96017029  0.75390225\n",
      " -0.41614684]\n",
      "\n",
      "[ 9 17 21 26 32 39 41]\n"
     ]
    }
   ],
   "source": [
    "import numpy as np\n",
    "\n",
    "var = np.array([9,8,4,5,6,7,2])\n",
    "\n",
    "print(np.sin(var))\n",
    "print()\n",
    "print(np.cos(var))\n",
    "print()\n",
    "print(np.cumsum(var))"
   ]
  },
  {
   "cell_type": "markdown",
   "id": "bfe6bfcd-dd03-4fc2-8e13-881deb389cc3",
   "metadata": {},
   "source": [
    "# Shape"
   ]
  },
  {
   "cell_type": "code",
   "execution_count": 10,
   "id": "c04c75d7-fa3e-413e-9712-abea76be75a4",
   "metadata": {},
   "outputs": [
    {
     "name": "stdout",
     "output_type": "stream",
     "text": [
      "(2, 5)\n"
     ]
    }
   ],
   "source": [
    "import numpy as np \n",
    "\n",
    "var = np.array([[1,2,3,4,5],[5,6,7,8,9]])\n",
    "\n",
    "print(var.shape)"
   ]
  },
  {
   "cell_type": "code",
   "execution_count": 12,
   "id": "fdbc7a5d-346e-497b-a8dd-5ee76121923b",
   "metadata": {},
   "outputs": [
    {
     "name": "stdout",
     "output_type": "stream",
     "text": [
      "(1, 1, 1, 5)\n"
     ]
    }
   ],
   "source": [
    "import numpy as np \n",
    "\n",
    "var = np.array([1,2,3,4,5],ndmin = 4)\n",
    "\n",
    "print(var.shape)"
   ]
  },
  {
   "cell_type": "code",
   "execution_count": 13,
   "id": "a44e06d0-7d38-43a8-bc1e-2250e15bf6ab",
   "metadata": {},
   "outputs": [
    {
     "name": "stdout",
     "output_type": "stream",
     "text": [
      "[[1 2 3]\n",
      " [4 5 6]]\n"
     ]
    }
   ],
   "source": [
    "import numpy as np \n",
    "\n",
    "var = np.array([1,2,3,4,5,6])\n",
    "\n",
    "print(var.reshape(2,3))"
   ]
  },
  {
   "cell_type": "code",
   "execution_count": 16,
   "id": "eb18006c-4163-4e71-8147-fa7cc2593250",
   "metadata": {},
   "outputs": [
    {
     "name": "stdout",
     "output_type": "stream",
     "text": [
      "[[[1 2]\n",
      "  [3 4]\n",
      "  [5 6]]\n",
      "\n",
      " [[4 5]\n",
      "  [6 7]\n",
      "  [8 9]]]\n",
      "1\n"
     ]
    }
   ],
   "source": [
    "import numpy as np \n",
    "\n",
    "var = np.array([1,2,3,4,5,6,4,5,6,7,8,9])\n",
    "\n",
    "print(var.reshape(2,3,2))\n"
   ]
  },
  {
   "cell_type": "code",
   "execution_count": 17,
   "id": "b53db6bb-1fe0-41b9-adc6-5657ef7b4083",
   "metadata": {},
   "outputs": [
    {
     "name": "stdout",
     "output_type": "stream",
     "text": [
      "[[[1 2]\n",
      "  [3 4]\n",
      "  [5 6]]\n",
      "\n",
      " [[4 5]\n",
      "  [6 7]\n",
      "  [8 9]]]\n",
      "[1 2 3 4 5 6 4 5 6 7 8 9]\n"
     ]
    }
   ],
   "source": [
    "import numpy as np \n",
    "\n",
    "var = np.array([1,2,3,4,5,6,4,5,6,7,8,9])\n",
    "\n",
    "print(var.reshape(2,3,2))\n",
    "\n",
    "x = var.reshape(-1)\n",
    "print(x)"
   ]
  },
  {
   "cell_type": "markdown",
   "id": "9cadb176-b14d-4f5c-8645-959d75f65ccc",
   "metadata": {},
   "source": [
    "# Brodcasting "
   ]
  },
  {
   "cell_type": "code",
   "execution_count": 18,
   "id": "1a181fd3-f8d3-4839-bb40-76a4570c9770",
   "metadata": {},
   "outputs": [
    {
     "name": "stdout",
     "output_type": "stream",
     "text": [
      "[[2 3 4]\n",
      " [3 4 5]]\n"
     ]
    }
   ],
   "source": [
    "import numpy as np\n",
    "\n",
    "var = np.array([1,2,3])\n",
    "var_two = np.array([[1],[2]])\n",
    "\n",
    "print(var + var_two)"
   ]
  },
  {
   "cell_type": "code",
   "execution_count": 19,
   "id": "1fd848c5-aebc-43b0-8bd3-1fecad1ee51c",
   "metadata": {},
   "outputs": [
    {
     "name": "stdout",
     "output_type": "stream",
     "text": [
      "[[2 3 4]\n",
      " [3 4 5]]\n"
     ]
    }
   ],
   "source": [
    "var_three = np.array([[1],[2]])\n",
    "var_four = np.array([[1,2,3],[1,2,3]])\n",
    "\n",
    "print(var_three + var_four)"
   ]
  },
  {
   "cell_type": "markdown",
   "id": "92ecc16d-09d0-4e06-a57f-5da37fb6f5dc",
   "metadata": {},
   "source": [
    "# Indexing "
   ]
  },
  {
   "cell_type": "code",
   "execution_count": 20,
   "id": "bcc62046-1d7d-45e2-aad8-1810fe5d6be3",
   "metadata": {},
   "outputs": [
    {
     "name": "stdout",
     "output_type": "stream",
     "text": [
      "2\n"
     ]
    }
   ],
   "source": [
    "import numpy as np\n",
    "\n",
    "var = np.array([1,2,3,4])\n",
    "\n",
    "print(var[1])"
   ]
  },
  {
   "cell_type": "code",
   "execution_count": 21,
   "id": "bb571d7a-276d-4c07-b9d6-9b3a7c380633",
   "metadata": {},
   "outputs": [
    {
     "name": "stdout",
     "output_type": "stream",
     "text": [
      "6\n"
     ]
    }
   ],
   "source": [
    "import numpy as np\n",
    "\n",
    "var = np.array([[1,2,3,4],[4,5,6,7]])\n",
    "\n",
    "print(var[1,2])"
   ]
  },
  {
   "cell_type": "code",
   "execution_count": 23,
   "id": "915e3b75-bc4c-498b-ac5d-8ff6e3cd8171",
   "metadata": {},
   "outputs": [
    {
     "name": "stdout",
     "output_type": "stream",
     "text": [
      "2\n"
     ]
    }
   ],
   "source": [
    "import numpy as np\n",
    "\n",
    "var = np.array([[[1,2,3,4],[4,5,6,7],[5,8,9,7]]])\n",
    "\n",
    "print(var[0,0,1])"
   ]
  },
  {
   "cell_type": "markdown",
   "id": "8f716334-a218-4e6b-ab9a-485ca776f799",
   "metadata": {},
   "source": [
    "# Slicing"
   ]
  },
  {
   "cell_type": "code",
   "execution_count": 25,
   "id": "1fe0d276-e587-43c0-a4a7-8aa770242e38",
   "metadata": {},
   "outputs": [
    {
     "name": "stdout",
     "output_type": "stream",
     "text": [
      "[3 4]\n"
     ]
    }
   ],
   "source": [
    "import numpy as np\n",
    "\n",
    "var = np.array([[1,2,3,4],[4,5,6,7]])\n",
    "\n",
    "print(var[0,2:])"
   ]
  },
  {
   "cell_type": "code",
   "execution_count": 26,
   "id": "3ab2885b-07dd-4a86-b1e5-1d02069b9d41",
   "metadata": {},
   "outputs": [
    {
     "name": "stdout",
     "output_type": "stream",
     "text": [
      "[2 3]\n"
     ]
    }
   ],
   "source": [
    "import numpy as np\n",
    "\n",
    "var = np.array([[[1,2,3,4],[4,5,6,7],[5,8,9,7]]])\n",
    "\n",
    "print(var[0,0,1:3])"
   ]
  },
  {
   "cell_type": "code",
   "execution_count": 27,
   "id": "fdc824d5-be9b-4e4a-8b24-5186f8076f4c",
   "metadata": {},
   "outputs": [
    {
     "name": "stdout",
     "output_type": "stream",
     "text": [
      "[1 3]\n"
     ]
    }
   ],
   "source": [
    "import numpy as np\n",
    "\n",
    "var = np.array([[[1,2,3,4],[4,5,6,7],[5,8,9,7]]])\n",
    "\n",
    "print(var[0,0,::2])"
   ]
  },
  {
   "cell_type": "markdown",
   "id": "020cf394-0742-4f53-a854-fa3acf8b212f",
   "metadata": {},
   "source": [
    "# terating numpy"
   ]
  },
  {
   "cell_type": "code",
   "execution_count": 28,
   "id": "7aeaeaa0-929d-4725-a3d5-01dd3a3ce798",
   "metadata": {},
   "outputs": [
    {
     "name": "stdout",
     "output_type": "stream",
     "text": [
      "1\n",
      "2\n",
      "4\n",
      "5\n"
     ]
    }
   ],
   "source": [
    "import numpy as np\n",
    "\n",
    "var = np.array([1,2,4,5])\n",
    "\n",
    "for i in var:\n",
    "    print(i)\n"
   ]
  },
  {
   "cell_type": "code",
   "execution_count": 31,
   "id": "dfdee96a-4a5c-4686-81c7-c106866ba532",
   "metadata": {},
   "outputs": [
    {
     "name": "stdout",
     "output_type": "stream",
     "text": [
      "1\n",
      "2\n",
      "4\n",
      "5\n",
      "4\n",
      "5\n",
      "6\n",
      "7\n"
     ]
    }
   ],
   "source": [
    "import numpy as np\n",
    "\n",
    "var = np.array([[1,2,4,5],[4,5,6,7]])\n",
    "\n",
    "for i in var:\n",
    "    for j in i:\n",
    "        print(j)"
   ]
  },
  {
   "cell_type": "code",
   "execution_count": 33,
   "id": "bbd1501b-4407-466b-b253-080ee79c69e5",
   "metadata": {},
   "outputs": [
    {
     "name": "stdout",
     "output_type": "stream",
     "text": [
      "1\n",
      "2\n",
      "4\n",
      "5\n",
      "4\n",
      "5\n",
      "6\n",
      "7\n",
      "5\n",
      "8\n",
      "2\n",
      "6\n"
     ]
    }
   ],
   "source": [
    "import numpy as np\n",
    "\n",
    "var = np.array([[[1,2,4,5],[4,5,6,7],[5,8,2,6]]])\n",
    "\n",
    "for i in var:\n",
    "    for j in i:\n",
    "        for k in j:\n",
    "            print(k)"
   ]
  },
  {
   "cell_type": "code",
   "execution_count": 36,
   "id": "3457db2f-3f3a-452c-ba12-51d97c21a7c5",
   "metadata": {},
   "outputs": [
    {
     "name": "stdout",
     "output_type": "stream",
     "text": [
      "1\n",
      "2\n",
      "4\n",
      "5\n",
      "4\n",
      "5\n",
      "6\n",
      "7\n",
      "5\n",
      "8\n",
      "2\n",
      "6\n"
     ]
    }
   ],
   "source": [
    "import numpy as np\n",
    "\n",
    "var = np.array([[[1,2,4,5],[4,5,6,7],[5,8,2,6]]])\n",
    "\n",
    "for i in np.nditer(var):\n",
    "    \n",
    "    print(i)"
   ]
  },
  {
   "cell_type": "code",
   "execution_count": 37,
   "id": "e463736c-1084-4df1-ab65-1e6954b3194d",
   "metadata": {},
   "outputs": [
    {
     "name": "stdout",
     "output_type": "stream",
     "text": [
      "((0, 0, 0), 1)\n",
      "((0, 0, 1), 2)\n",
      "((0, 0, 2), 4)\n",
      "((0, 0, 3), 5)\n",
      "((0, 1, 0), 4)\n",
      "((0, 1, 1), 5)\n",
      "((0, 1, 2), 6)\n",
      "((0, 1, 3), 7)\n",
      "((0, 2, 0), 5)\n",
      "((0, 2, 1), 8)\n",
      "((0, 2, 2), 2)\n",
      "((0, 2, 3), 6)\n"
     ]
    }
   ],
   "source": [
    "import numpy as np\n",
    "\n",
    "var = np.array([[[1,2,4,5],[4,5,6,7],[5,8,2,6]]])\n",
    "\n",
    "for i in np.ndenumerate(var):\n",
    "    \n",
    "    print(i)"
   ]
  },
  {
   "cell_type": "markdown",
   "id": "8867ce2d-eb03-4233-93e2-597da061885b",
   "metadata": {},
   "source": [
    "# Copy vs View"
   ]
  },
  {
   "cell_type": "code",
   "execution_count": 39,
   "id": "4208379c-aa79-4ec1-b734-54c6381a4ad6",
   "metadata": {},
   "outputs": [
    {
     "name": "stdout",
     "output_type": "stream",
     "text": [
      "var [ 1 20  3  4]\n",
      "copy [1 2 3 4]\n"
     ]
    }
   ],
   "source": [
    "import numpy as np\n",
    "\n",
    "var = np.array([1,2,3,4])\n",
    "x = var.copy()\n",
    "\n",
    "var[1] = 20\n",
    "\n",
    "print(\"var\",var)\n",
    "print(\"copy\",x)"
   ]
  },
  {
   "cell_type": "code",
   "execution_count": 41,
   "id": "7a2a56bb-e496-4d7a-b1c9-2d0f2bae9a6e",
   "metadata": {},
   "outputs": [
    {
     "name": "stdout",
     "output_type": "stream",
     "text": [
      "var [ 1 20  3  4]\n",
      "view [ 1 20  3  4]\n"
     ]
    }
   ],
   "source": [
    "import numpy as np\n",
    "\n",
    "var = np.array([1,2,3,4])\n",
    "x = var.view()\n",
    "\n",
    "var[1] = 20\n",
    "\n",
    "print(\"var\",var)\n",
    "print(\"view\",x)"
   ]
  },
  {
   "cell_type": "markdown",
   "id": "91cf8804-5c9b-4ea7-81ae-6a8108e49326",
   "metadata": {},
   "source": [
    "# joining and split numpy"
   ]
  },
  {
   "cell_type": "code",
   "execution_count": 13,
   "id": "b2bda66b-00c2-4abf-b9ce-70bfa6081287",
   "metadata": {},
   "outputs": [
    {
     "name": "stdout",
     "output_type": "stream",
     "text": [
      "[[1 2 3]\n",
      " [4 5 6]\n",
      " [4 5 6]\n",
      " [7 8 9]]\n"
     ]
    }
   ],
   "source": [
    "import numpy as np\n",
    "\n",
    "var = np.array([[1,2,3],[4,5,6]])\n",
    "var_two = np.array([[4,5,6],[7,8,9]])\n",
    "\n",
    "x = np.concatenate((var , var_two),axis = 0)\n",
    "\n",
    "print(x)"
   ]
  },
  {
   "cell_type": "code",
   "execution_count": 11,
   "id": "f22e26c4-3e51-4630-bc0a-ab852a0a13a7",
   "metadata": {},
   "outputs": [
    {
     "name": "stdout",
     "output_type": "stream",
     "text": [
      "[1 2 3 4 5 6 4 5 6 7 8 9]\n"
     ]
    }
   ],
   "source": [
    "import numpy as np\n",
    "\n",
    "var = np.array([1,2,3,4,5,6])\n",
    "var_two = np.array([4,5,6,7,8,9])\n",
    "\n",
    "x = np.concatenate((var , var_two))\n",
    "\n",
    "print(x)"
   ]
  },
  {
   "cell_type": "code",
   "execution_count": 17,
   "id": "60217b42-1810-4376-9077-b0de0e2b0fa1",
   "metadata": {},
   "outputs": [
    {
     "name": "stdout",
     "output_type": "stream",
     "text": [
      "[[1 2 3 4 5 6]\n",
      " [4 5 6 7 8 9]]\n",
      "\n",
      "[1 2 3 4 5 6 4 5 6 7 8 9]\n",
      "\n",
      "[[1 2 3 4 5 6]\n",
      " [4 5 6 7 8 9]]\n",
      "\n",
      "[[[1 4]\n",
      "  [2 5]\n",
      "  [3 6]\n",
      "  [4 7]\n",
      "  [5 8]\n",
      "  [6 9]]]\n"
     ]
    }
   ],
   "source": [
    "import numpy as np\n",
    "\n",
    "var = np.array([1,2,3,4,5,6])\n",
    "var_two = np.array([4,5,6,7,8,9])\n",
    "\n",
    "x = np.stack((var,var_two))\n",
    "y = np.hstack((var,var_two))\n",
    "z = np.vstack((var,var_two))\n",
    "b = np.dstack((var,var_two))\n",
    "\n",
    "print(x)\n",
    "print()\n",
    "print(y)\n",
    "print()\n",
    "print(z)\n",
    "print()\n",
    "print(b)"
   ]
  },
  {
   "cell_type": "markdown",
   "id": "6868998c-3dfd-4632-be31-21083cf5f2b9",
   "metadata": {},
   "source": [
    "# Split numpy"
   ]
  },
  {
   "cell_type": "code",
   "execution_count": 19,
   "id": "1fdf6fc1-385c-456c-a2b8-33216b283f1a",
   "metadata": {},
   "outputs": [
    {
     "name": "stdout",
     "output_type": "stream",
     "text": [
      "[[1 2 3]\n",
      " [4 5 6]]\n",
      "\n",
      "[array([[1, 2, 3]]), array([[4, 5, 6]]), array([], shape=(0, 3), dtype=int32)]\n"
     ]
    }
   ],
   "source": [
    "import numpy as np\n",
    "\n",
    "var = np.array([[1,2,3],[4,5,6]])\n",
    "\n",
    "x = np.array_split(var,3)\n",
    "print(var)\n",
    "print()\n",
    "print(x)\n",
    "\n"
   ]
  },
  {
   "cell_type": "markdown",
   "id": "0a552dd3-eef8-4eed-a4ef-0b80693c4507",
   "metadata": {},
   "source": [
    "# Search"
   ]
  },
  {
   "cell_type": "code",
   "execution_count": 24,
   "id": "12fa8dcc-1d7d-489e-a374-47062c89d716",
   "metadata": {},
   "outputs": [
    {
     "name": "stdout",
     "output_type": "stream",
     "text": [
      "(array([ 1,  5, 19], dtype=int64),)\n"
     ]
    }
   ],
   "source": [
    "import numpy as np\n",
    "\n",
    "var = np.array([1,2,4,5,6,2,4,5,1,3,5,4,8,9,7,5,7,4,6,2,1])\n",
    "\n",
    "ar = np.where(var==2)\n",
    "print(ar)"
   ]
  },
  {
   "cell_type": "markdown",
   "id": "413a9355-4e9b-47bf-b43c-95d0cee1fb71",
   "metadata": {},
   "source": [
    "# Search short"
   ]
  },
  {
   "cell_type": "code",
   "execution_count": 29,
   "id": "82b0b9c1-3b66-4c32-b640-2059ca71c648",
   "metadata": {},
   "outputs": [
    {
     "name": "stdout",
     "output_type": "stream",
     "text": [
      "6\n"
     ]
    }
   ],
   "source": [
    "import numpy as np\n",
    "\n",
    "var = np.array([1,2,4,5,6,8,10])\n",
    "ar = np.searchsorted(var,9)\n",
    "\n",
    "print(ar)"
   ]
  },
  {
   "cell_type": "markdown",
   "id": "67de4fd4-88bf-48ff-8471-19651778f2f3",
   "metadata": {},
   "source": [
    "# Sorted "
   ]
  },
  {
   "cell_type": "code",
   "execution_count": 31,
   "id": "4c19e3c0-7a6f-4585-af09-7d476fad45d3",
   "metadata": {},
   "outputs": [
    {
     "name": "stdout",
     "output_type": "stream",
     "text": [
      "[1 1 2 2 3 4 4 4 5 5 6 7 8 9]\n"
     ]
    }
   ],
   "source": [
    "import numpy as np\n",
    "\n",
    "var = np.array([5,4,2,1,8,7,9,4,2,1,3,5,6,4])\n",
    "ar = np.sort(var)\n",
    "\n",
    "print(ar)"
   ]
  },
  {
   "cell_type": "code",
   "execution_count": 32,
   "id": "f76641da-b281-4108-aa14-a97bad0e8e75",
   "metadata": {},
   "outputs": [
    {
     "name": "stdout",
     "output_type": "stream",
     "text": [
      "['a' 'c' 'x' 'z']\n"
     ]
    }
   ],
   "source": [
    "import numpy as np\n",
    "\n",
    "var = np.array(['a','c','z','x'])\n",
    "ar = np.sort(var)\n",
    "\n",
    "print(ar)"
   ]
  },
  {
   "cell_type": "code",
   "execution_count": 34,
   "id": "47032243-f376-405a-a1ac-452f35802f62",
   "metadata": {},
   "outputs": [
    {
     "name": "stdout",
     "output_type": "stream",
     "text": [
      "['a' 'z' 'x']\n"
     ]
    }
   ],
   "source": [
    "import numpy as np\n",
    "\n",
    "var = np.array(['a','c','z','x'])\n",
    "ar = [True,False,True,True]\n",
    "new = var[ar]\n",
    "\n",
    "print(new)"
   ]
  },
  {
   "cell_type": "markdown",
   "id": "713d4ce2-1d85-49f3-8f57-ede503fa9801",
   "metadata": {},
   "source": [
    "# shuffle"
   ]
  },
  {
   "cell_type": "code",
   "execution_count": 38,
   "id": "659ff125-3f46-431a-9959-5351b3c76189",
   "metadata": {},
   "outputs": [
    {
     "name": "stdout",
     "output_type": "stream",
     "text": [
      "[5 3 4 2 1]\n"
     ]
    }
   ],
   "source": [
    "import numpy as np\n",
    "\n",
    "var = np.array([1,2,3,4,5])\n",
    "\n",
    "np.random.shuffle(var)\n",
    "print(var)"
   ]
  },
  {
   "cell_type": "markdown",
   "id": "8655c6b1-7907-43f9-922a-ace5338cc321",
   "metadata": {},
   "source": [
    "# unique"
   ]
  },
  {
   "cell_type": "code",
   "execution_count": 45,
   "id": "eee7ec85-4d62-48b2-880b-29e5ba55e14b",
   "metadata": {},
   "outputs": [
    {
     "name": "stdout",
     "output_type": "stream",
     "text": [
      "(array([1, 2, 3, 4, 5]), array([1, 3, 4, 2, 0], dtype=int64), array([3, 2, 2, 2, 3], dtype=int64))\n"
     ]
    }
   ],
   "source": [
    "import numpy as np\n",
    "\n",
    "var = np.array([5,1,4,2,3,1,5,4,3,2,1,5])\n",
    "\n",
    "x = np.unique(var,return_index = True,return_counts = True)\n",
    "print(x)"
   ]
  },
  {
   "cell_type": "markdown",
   "id": "6ad4763b-efe1-4374-b009-f9d1807a0f84",
   "metadata": {},
   "source": [
    "# resize"
   ]
  },
  {
   "cell_type": "code",
   "execution_count": 42,
   "id": "5c346bcb-3caf-4e32-a027-8048241d78f4",
   "metadata": {},
   "outputs": [
    {
     "name": "stdout",
     "output_type": "stream",
     "text": [
      "[[5 1 4]\n",
      " [2 3 1]]\n"
     ]
    }
   ],
   "source": [
    "import numpy as np\n",
    "\n",
    "var = np.array([5,1,4,2,3,1])\n",
    "\n",
    "x = np.resize(var,(2,3))\n",
    "print(x)"
   ]
  },
  {
   "cell_type": "markdown",
   "id": "cff5c219-1ad8-4fd6-90dd-d90eee21dee0",
   "metadata": {},
   "source": [
    "# flatten"
   ]
  },
  {
   "cell_type": "code",
   "execution_count": 54,
   "id": "3ef27306-8f59-405d-a38a-914690791869",
   "metadata": {},
   "outputs": [
    {
     "name": "stdout",
     "output_type": "stream",
     "text": [
      "[[5 1 4]\n",
      " [2 3 1]]\n",
      "\n",
      "[5 1 4 2 3 1]\n",
      "[5 2 1 3 4 1]\n"
     ]
    }
   ],
   "source": [
    "import numpy as np\n",
    "\n",
    "var = np.array([5,1,4,2,3,1])\n",
    "\n",
    "x = np.resize(var,(2,3))\n",
    "\n",
    "print(x)\n",
    "print()\n",
    "print(x.flatten(order = \"c\"))\n",
    "print(x.ravel(order = \"f\"))"
   ]
  },
  {
   "cell_type": "markdown",
   "id": "ac01e5ad-0382-4f08-8ed0-a91446267574",
   "metadata": {},
   "source": [
    "# Insert"
   ]
  },
  {
   "cell_type": "code",
   "execution_count": 55,
   "id": "1b978a9e-9b64-46b1-96d4-d3bf140843e0",
   "metadata": {},
   "outputs": [
    {
     "name": "stdout",
     "output_type": "stream",
     "text": [
      "[1 2 3 4 5]\n"
     ]
    }
   ],
   "source": [
    "import numpy as np\n",
    "\n",
    "var = np.array([1,2,4,5])\n",
    "\n",
    "x = np.insert(var,2,3)\n",
    "\n",
    "print(x)"
   ]
  },
  {
   "cell_type": "code",
   "execution_count": 57,
   "id": "3ab09c11-f79a-4564-a0aa-dc2f42917144",
   "metadata": {},
   "outputs": [
    {
     "name": "stdout",
     "output_type": "stream",
     "text": [
      "[[1 2 4 5]\n",
      " [1 2 4 5]\n",
      " [3 3 3 3]]\n"
     ]
    }
   ],
   "source": [
    "import numpy as np\n",
    "\n",
    "var = np.array([[1,2,4,5],[1,2,4,5]])\n",
    "\n",
    "x = np.insert(var,2,3,axis = 0)\n",
    "\n",
    "print(x)"
   ]
  },
  {
   "cell_type": "code",
   "execution_count": 59,
   "id": "5b547369-c1d6-4843-ac15-7bab35419d9f",
   "metadata": {},
   "outputs": [
    {
     "name": "stdout",
     "output_type": "stream",
     "text": [
      "[1 2 4 5 3]\n"
     ]
    }
   ],
   "source": [
    "import numpy as np\n",
    "\n",
    "var = np.array([1,2,4,5])\n",
    "\n",
    "x = np.append(var,3)\n",
    "\n",
    "print(x)"
   ]
  },
  {
   "cell_type": "code",
   "execution_count": 62,
   "id": "2da18e48-56ec-4438-878a-4e81fac5867f",
   "metadata": {},
   "outputs": [
    {
     "name": "stdout",
     "output_type": "stream",
     "text": [
      "[[1 2 4 5]\n",
      " [1 2 4 5]\n",
      " [3 4 5 7]]\n"
     ]
    }
   ],
   "source": [
    "import numpy as np\n",
    "\n",
    "var = np.array([[1,2,4,5],[1,2,4,5]])\n",
    "\n",
    "x = np.append(var,[[3,4,5,7]],axis = 0)\n",
    "\n",
    "print(x)"
   ]
  },
  {
   "cell_type": "code",
   "execution_count": 63,
   "id": "8712c4c6-64c7-4fa4-bb57-4c9a1bb32d1d",
   "metadata": {},
   "outputs": [
    {
     "name": "stdout",
     "output_type": "stream",
     "text": [
      "[1 2 4]\n"
     ]
    }
   ],
   "source": [
    "import numpy as np\n",
    "\n",
    "var = np.array([1,2,4,5])\n",
    "\n",
    "x = np.delete(var,3)\n",
    "\n",
    "print(x)"
   ]
  },
  {
   "cell_type": "code",
   "execution_count": 64,
   "id": "2950644b-2c2f-46ef-80fa-ee53a086bdad",
   "metadata": {},
   "outputs": [
    {
     "ename": "IndexError",
     "evalue": "index 3 is out of bounds for axis 0 with size 2",
     "output_type": "error",
     "traceback": [
      "\u001b[1;31m---------------------------------------------------------------------------\u001b[0m",
      "\u001b[1;31mIndexError\u001b[0m                                Traceback (most recent call last)",
      "Cell \u001b[1;32mIn[64], line 5\u001b[0m\n\u001b[0;32m      1\u001b[0m \u001b[38;5;28;01mimport\u001b[39;00m \u001b[38;5;21;01mnumpy\u001b[39;00m \u001b[38;5;28;01mas\u001b[39;00m \u001b[38;5;21;01mnp\u001b[39;00m\n\u001b[0;32m      3\u001b[0m var \u001b[38;5;241m=\u001b[39m np\u001b[38;5;241m.\u001b[39marray([[\u001b[38;5;241m1\u001b[39m,\u001b[38;5;241m2\u001b[39m,\u001b[38;5;241m4\u001b[39m,\u001b[38;5;241m5\u001b[39m],[\u001b[38;5;241m1\u001b[39m,\u001b[38;5;241m2\u001b[39m,\u001b[38;5;241m4\u001b[39m,\u001b[38;5;241m5\u001b[39m]])\n\u001b[1;32m----> 5\u001b[0m x \u001b[38;5;241m=\u001b[39m \u001b[43mnp\u001b[49m\u001b[38;5;241;43m.\u001b[39;49m\u001b[43mdelete\u001b[49m\u001b[43m(\u001b[49m\u001b[43mvar\u001b[49m\u001b[43m,\u001b[49m\u001b[43m[\u001b[49m\u001b[43m[\u001b[49m\u001b[38;5;241;43m3\u001b[39;49m\u001b[43m,\u001b[49m\u001b[38;5;241;43m4\u001b[39;49m\u001b[43m,\u001b[49m\u001b[38;5;241;43m5\u001b[39;49m\u001b[43m,\u001b[49m\u001b[38;5;241;43m7\u001b[39;49m\u001b[43m]\u001b[49m\u001b[43m]\u001b[49m\u001b[43m,\u001b[49m\u001b[43maxis\u001b[49m\u001b[43m \u001b[49m\u001b[38;5;241;43m=\u001b[39;49m\u001b[43m \u001b[49m\u001b[38;5;241;43m0\u001b[39;49m\u001b[43m)\u001b[49m\n\u001b[0;32m      7\u001b[0m \u001b[38;5;28mprint\u001b[39m(x)\n",
      "File \u001b[1;32m<__array_function__ internals>:200\u001b[0m, in \u001b[0;36mdelete\u001b[1;34m(*args, **kwargs)\u001b[0m\n",
      "File \u001b[1;32m~\\AppData\\Local\\Programs\\Python\\Python310\\lib\\site-packages\\numpy\\lib\\function_base.py:5235\u001b[0m, in \u001b[0;36mdelete\u001b[1;34m(arr, obj, axis)\u001b[0m\n\u001b[0;32m   5233\u001b[0m \u001b[38;5;28;01melse\u001b[39;00m:\n\u001b[0;32m   5234\u001b[0m     keep \u001b[38;5;241m=\u001b[39m ones(N, dtype\u001b[38;5;241m=\u001b[39m\u001b[38;5;28mbool\u001b[39m)\n\u001b[1;32m-> 5235\u001b[0m     \u001b[43mkeep\u001b[49m\u001b[43m[\u001b[49m\u001b[43mobj\u001b[49m\u001b[43m,\u001b[49m\u001b[43m]\u001b[49m \u001b[38;5;241m=\u001b[39m \u001b[38;5;28;01mFalse\u001b[39;00m\n\u001b[0;32m   5237\u001b[0m slobj[axis] \u001b[38;5;241m=\u001b[39m keep\n\u001b[0;32m   5238\u001b[0m new \u001b[38;5;241m=\u001b[39m arr[\u001b[38;5;28mtuple\u001b[39m(slobj)]\n",
      "\u001b[1;31mIndexError\u001b[0m: index 3 is out of bounds for axis 0 with size 2"
     ]
    }
   ],
   "source": [
    "import numpy as np\n",
    "\n",
    "var = np.array([[1,2,4,5],[1,2,4,5]])\n",
    "\n",
    "x = np.delete(var,[[3,4,5,7]],axis = 0)\n",
    "\n",
    "print(x)"
   ]
  }
 ],
 "metadata": {
  "kernelspec": {
   "display_name": "Python 3 (ipykernel)",
   "language": "python",
   "name": "python3"
  },
  "language_info": {
   "codemirror_mode": {
    "name": "ipython",
    "version": 3
   },
   "file_extension": ".py",
   "mimetype": "text/x-python",
   "name": "python",
   "nbconvert_exporter": "python",
   "pygments_lexer": "ipython3",
   "version": "3.10.4"
  }
 },
 "nbformat": 4,
 "nbformat_minor": 5
}
